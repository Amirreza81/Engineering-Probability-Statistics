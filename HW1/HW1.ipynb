{
 "cells": [
  {
   "cell_type": "markdown",
   "id": "9b7a71cb",
   "metadata": {},
   "source": [
    "<div style=\"direction:rtl;line-height:300%;\">\n",
    "\t<font face=\"XB Zar\" size=5>\n",
    "\t\t<div align=center style=\"margin-top: 100px;\">\n",
    "\t\t\t<font face=\"XB zar\" size=30>\n",
    "\t\t\t\t<p></p>\n",
    "به نام خدا\n",
    "\t\t\t\t<p></p>\n",
    "\t\t\t</font>\n",
    "<font color=blue>\n",
    "آمار و احتمال مهندسی\n",
    "            </font>\n",
    "            <br />\n",
    "\t\t\t<font color=#818181>\n",
    "دانشگاه صنعتی شریف - دانشکده مهندسی کامپیوتر\n",
    "            </font>\n",
    "\t\t\t<p></p>\n",
    "بهار 1401\n",
    "\t\t</div>\n",
    "\t\t<hr/>\n",
    "\t\t<div align=center>\n",
    "\t\t    <font color=red size=6>\n",
    "\t\t\t    <br />\n",
    "تمرین عملی اول\n",
    "            \t<br/>\n",
    "\t\t\t</font>\n",
    "طراح: سجاد سلطانیان \n",
    "\t\t\t<br/> \n",
    "موعد تحویل: 3 اردیبهشت \n",
    "                <br/><br/>\n",
    "                همفکری در تمامی تمرین‌های درس توصیه می‌شود. در عین حال از شما خواسته می‌شود تا تمام پیاده‌سازی را به تنهایی و بدون مشاهده کد دیگران انجام دهید.\n",
    "                <br/><br/>\n",
    "                <font color=red>\n",
    "                لطفا در فایل ارسالی تمام بلوک‌های کد اجرا شده و شامل نمودار‌ها و خروجی‌های لازم باشند.\n",
    "     </font>\n",
    "                <br/>\n",
    "        </style>\n",
    "\t</font>\n",
    "</div>"
   ]
  },
  {
   "cell_type": "markdown",
   "id": "ba6e6932",
   "metadata": {},
   "source": [
    "<div dir = \"rtl\" style=\"direction:rtl;line-height:200%;\">\n",
    "\t<font face=\"XB Zar\" size=5>\n",
    "\t\t<font color=#FF7500 size=6>\n",
    "             مقدمه\n",
    "        </font>\n",
    "        <hr/>\n",
    "        <div dir = \"rtl\" style=\"direction:rtl;line-height:200%;\">\n",
    "\t<font face=\"XB Zar\" size=5>\n",
    "          هدف از این تمرین، آشنایی با مقدمات زبان برنامه‌نویسی R در قالب کاربردی است. در هر بخش با بیان دقیق خواسته  مسئله سعی شده است تا از هرگونه ابهام پیشگیری شود. با این حال، چنانچه در فهم خواسته سوال ابهامی وجود داشت در بستر کوئرا بیان کنید تا پاسخ داده شود.\n",
    "        </br>\n",
    "<div style=\"margin: 10px 0; border-radius: 8px;padding: 15px; background-color: #fff2b2; color: #7c620c; font-family: 'XB zar';\">\n",
    "        توجه: ممکن است برای رسیدن به پاسخ، راه‌های متعددی وجود داشته باشد. پاسخ شما تا زمانی که خواسته مسئله را برآورده کند کاملا قابل قبول خواهد بود.\n",
    "    </div>\n",
    "</div>"
   ]
  },
  {
   "cell_type": "markdown",
   "id": "5ec5a0b4",
   "metadata": {},
   "source": [
    "<div dir = \"rtl\" style=\"direction:rtl;line-height:250%;\">\n",
    "\t<font face=\"XB Zar\" size=5>\n",
    "\t\t<font color=#FF7500 size=6>\n",
    "            سوال اول\n",
    "        </font>\n",
    "        <hr/>\n",
    "        \n",
    "<img src=\"files/goodread_logo.png\">\n",
    "        <br>\n",
    "        <div dir = \"rtl\" style=\"direction:rtl;line-height:200%;\">\n",
    "\t<font face=\"XB Zar\" size=5>\n",
    "      در این سوال قصد داریم عملیات‌های آماری مختلفی را روی یک مجموعه واقعی از داده‌ها که از طرف سایت goodreads منتشر شده است انجام دهیم.\n",
    "        \n",
    "</div>"
   ]
  },
  {
   "cell_type": "markdown",
   "id": "b6d6d58d",
   "metadata": {},
   "source": [
    "<div dir = \"rtl\" style=\"direction:rtl;line-height:250%;\">\n",
    "\t<font face=\"XB Zar\" size=5>\n",
    "\t\t<font color=#FF7500 size=6>\n",
    "         خواندن داده از فایل (۱۰ نمره)\n",
    "        </font>\n",
    "        <hr/>\n",
    "        <div dir = \"rtl\" style=\"direction:rtl;line-height:200%;\">\n",
    "\t<font face=\"XB Zar\" size=5>\n",
    "        فایل books.csv را از پوشه resources بخوانید و آن را در متغیری به نام all-books ذخیره کنید. <span style=\"background-color: #eeeeee; font-size: 2rem; padding: 5px 10px; border-radius: 20px;\">۵ نمره</span><br>\n",
    "        جهت اطمینان از بارگذاری صحیح داده‌ه، ۵ سطر ابتدایی آن را پرینت کنید.\n",
    "        <span style=\"background-color: #eeeeee; font-size: 2rem; padding: 5px 10px; border-radius: 20px;\">۵ نمره</span>\n",
    "\n",
    "<div style=\"margin: 10px 0; border-radius: 8px;padding: 15px; background-color: #caf0f8; color: #03045e; font-family: 'XB zar';\">\n",
    "    راهنمایی: از دوتابع head و tail به ترتیب جهت دریافت چند سطر ابتدایی و انتهایی جدول‌ها استفاده می‌شود.\n",
    "        </div>\n",
    "        \n",
    "        \n",
    "        \n",
    "        \n",
    "        \n",
    "</div>"
   ]
  },
  {
   "cell_type": "code",
   "execution_count": 1,
   "id": "c183ad58",
   "metadata": {
    "scrolled": false
   },
   "outputs": [
    {
     "name": "stdout",
     "output_type": "stream",
     "text": [
      "                                      title                series\n",
      "1                          The Hunger Games   The Hunger Games #1\n",
      "2 Harry Potter and the Order of the Phoenix       Harry Potter #5\n",
      "3                     To Kill a Mockingbird To Kill a Mockingbird\n",
      "4                       Pride and Prejudice                      \n",
      "5                                  Twilight  The Twilight Saga #1\n",
      "                                     author rating language\n",
      "1                           Suzanne Collins   4.33  English\n",
      "2 J.K. Rowling, Mary GrandPré (Illustrator)   4.50  English\n",
      "3                                Harper Lee   4.28  English\n",
      "4 Jane Austen, Anna Quindlen (Introduction)   4.26  English\n",
      "5                           Stephenie Meyer   3.60  English\n",
      "                                                                                                                                               genres\n",
      "1                  ['Young Adult', 'Fiction', 'Dystopia', 'Fantasy', 'Science Fiction', 'Romance', 'Adventure', 'Teen', 'Post Apocalyptic', 'Action']\n",
      "2        ['Fantasy', 'Young Adult', 'Fiction', 'Magic', 'Childrens', 'Adventure', 'Audiobook', 'Middle Grade', 'Classics', 'Science Fiction Fantasy']\n",
      "3      ['Classics', 'Fiction', 'Historical Fiction', 'School', 'Literature', 'Young Adult', 'Historical', 'Novels', 'Read For School', 'High School']\n",
      "4 ['Classics', 'Fiction', 'Romance', 'Historical Fiction', 'Literature', 'Historical', 'Novels', 'Historical Romance', 'Classic Literature', 'Adult']\n",
      "5           ['Young Adult', 'Fantasy', 'Romance', 'Vampires', 'Fiction', 'Paranormal', 'Paranormal Romance', 'Supernatural', 'Teen', 'Urban Fantasy']\n",
      "  pages                        publisher publish.year numRatings likedPercent\n",
      "1   374                 Scholastic Press         2008    6376780           96\n",
      "2   870                  Scholastic Inc.         2004    2507623           98\n",
      "3   324 Harper Perennial Modern Classics         2006    4501075           95\n",
      "4   279                   Modern Library         2000    2998241           94\n",
      "5   501        Little, Brown and Company         2006    4964519           78\n",
      "  price\n",
      "1  5.09\n",
      "2  7.38\n",
      "3      \n",
      "4      \n",
      "5   2.1\n"
     ]
    }
   ],
   "source": [
    "# AmirReza Azari\n",
    "# 99101087\n",
    "#**********************************\n",
    "all_books <- read.csv(\"books.csv\")                        # uploaded in jupyter notebook\n",
    "print(head(all_books, 5))\n",
    "# all_books <- read.csv('C:/Users/AmirReza81/Downloads/Compressed/practical#1/files/books.csv') \n",
    "# --> reading from pc"
   ]
  },
  {
   "cell_type": "markdown",
   "id": "c9ed129e",
   "metadata": {},
   "source": [
    "<div dir = \"rtl\" style=\"direction:rtl;line-height:250%;\">\n",
    "\t<font face=\"XB Zar\" size=5>\n",
    "\t\t<font color=#FF7500 size=6>\n",
    "            محبوب‌ترین کتاب‌ها از نگاه کاربران\n",
    "        </font>\n",
    "        <hr/>\n",
    "        <font color=#FF7500 size=۴>\n",
    "        قسمت اول: تعریف شاخص محبوبیت (۳۵ نمره) \n",
    "        </font>\n",
    "        <div dir = \"rtl\" style=\"direction:rtl;line-height:200%;\">\n",
    "\t<font face=\"XB Zar\" size=5>\n",
    "می‌خواهیم ۱۰ کتاب برتر را در میان تمامی کتاب‌های موجود پیدا کنیم. معیار ما در اندازه‌گیری میزان محبوبیت یک کتاب، شاخص popularity خواهد بود که خود از دو شاخص rating (نظرسنجی کاربران از ۰ تا ۵)، و از likedPercent (درصد محبوبیت کتاب) بدست خواهد آمد.   \n",
    "        برای این منظور لازم است گام‌های زیر را طی کنیم: \n",
    "        </br>\n",
    "        <ul>\n",
    "            <li> ابتدا کتاب‌هایی را که دارای تعداد نظرات (numRating) کمتر از ۱۰ هزار هستند را از مجموعه دادگان کنار می‌گذاریم و داده‌های باقی‌مانده را در متغیری به نام filtered-books ذخیره می‌کنیم. (در مراحل بعدی نیز از همین متغیر استفاده خواهیم کرد)\n",
    "            <span style=\"background-color: #eeeeee; font-size: 2rem; padding: 5px 10px; border-radius: 20px;\">۱۰ نمره</span></li>   \n",
    "        </ul>\n",
    "</div>"
   ]
  },
  {
   "cell_type": "code",
   "execution_count": 2,
   "id": "812fac44",
   "metadata": {},
   "outputs": [],
   "source": [
    "filtered_books <- all_books[all_books$numRatings >= 10000, ]"
   ]
  },
  {
   "cell_type": "markdown",
   "id": "7760e41f",
   "metadata": {},
   "source": [
    "<div dir = \"rtl\" style=\"direction:rtl;line-height:250%;\">\n",
    "    <font face=\"XB Zar\" size=5>\n",
    "<ul>\n",
    "<li style=\"line-height:200%\">حال، پیش از محاسبه شاخص محبوبیت لازم است تا دو ستون rating و likedPercent را هم‌وزن کنیم. به این معنا که مقیاس ستون rating را از ۰-۵ به ۰ الی ۱۰۰ (مشابه likedPercent) تغییر دهیم که این کار با ۲۰ برابر کردن ستون rating قابل انجام است\n",
    "    <span style=\"background-color: #eeeeee; font-size: 2rem; padding: 5px 10px; border-radius: 20px;\">۱۰ نمره</span></li>\n",
    "</ul>\n",
    "                    <div style=\"margin: 10px 0; border-radius: 8px;padding: 15px; background-color: #caf0f8; color: #03045e; font-family: 'XB zar';\">\n",
    "            راهنمایی: برای این کار می‌توانید از تابع sapply استفاده کنید</div>\n"
   ]
  },
  {
   "cell_type": "code",
   "execution_count": 3,
   "id": "5c57522e",
   "metadata": {},
   "outputs": [],
   "source": [
    "filtered_books$rating <- filtered_books$rating * 20\n",
    "# filtered_books$rating <- sapply(filtered_books$rating, function(x) 20 * x)"
   ]
  },
  {
   "cell_type": "markdown",
   "id": "98817b11",
   "metadata": {},
   "source": [
    "<div dir = \"rtl\" style=\"direction:rtl;line-height:200%;\">\n",
    "\t<font face=\"XB Zar\" size=5>\n",
    "        <ul>\n",
    "            <li style=\"line-height:200%\">شاخص popularity را با میانگین‌گیری وزن‌دار از دو ستون rating و likedPercent، به ترتیب با ضریب۵ و ۲ محاسبه می‌کنیم و نتیجه را در برداری با همین نام ذخیره می‌کنیم.\n",
    "                <span style=\"background-color: #eeeeee; font-size: 2rem; padding: 5px 10px; border-radius: 20px;\">۱۰ نمره</span></li> \n",
    "        </ul>"
   ]
  },
  {
   "cell_type": "code",
   "execution_count": 4,
   "id": "f92e7194",
   "metadata": {},
   "outputs": [],
   "source": [
    "popularity <- (filtered_books$rating * 5 + filtered_books$likedPercent * 2) / 7"
   ]
  },
  {
   "cell_type": "markdown",
   "id": "7b055dcc",
   "metadata": {},
   "source": [
    "<div dir = \"rtl\" style=\"direction:rtl;line-height:250%;\">\n",
    "\t<font face=\"XB Zar\" size=5>\n",
    "        <div dir = \"rtl\" style=\"direction:rtl;line-height:200%;\">\n",
    "\t<font face=\"XB Zar\" size=5>\n",
    "       \n",
    "</div>"
   ]
  },
  {
   "cell_type": "markdown",
   "id": "306b2f39",
   "metadata": {},
   "source": [
    "<div dir = \"rtl\" style=\"direction:rtl;line-height:200%;\">\n",
    "\t<font face=\"XB Zar\" size=5>\n",
    "        <ul>\n",
    "<li>نهایتا نیز ستون popularity را با همین نام به دیتافریم خود (filtered-books) اضافه می‌کنیم.\n",
    "                <span style=\"background-color: #eeeeee; font-size: 2rem; padding: 5px 10px; border-radius: 20px;\">۵ نمره</span></li>\n",
    "</ul>\n",
    "<div style=\"margin: 10px 0; border-radius: 8px;padding: 15px; background-color: #fff2b2; color: #7c620c; font-family: 'XB zar'; line-height: 200%\">         \n",
    "توجه: میتوانید از کتاب‌خانه‌ها نیز استفاده کنید اما تا این مرحله، تمام کار‌ها با استفاده از همان توابع پیشفرض موجود در زبان نیز قابل انجام بوده است.\n",
    "    </div>"
   ]
  },
  {
   "cell_type": "code",
   "execution_count": 5,
   "id": "2a6e08bc",
   "metadata": {},
   "outputs": [],
   "source": [
    "filtered_books$popularity = popularity"
   ]
  },
  {
   "cell_type": "markdown",
   "id": "5b5a0079",
   "metadata": {},
   "source": [
    "<div dir = \"rtl\" style=\"direction:rtl;line-height:250%;\">\n",
    "\t<font face=\"XB Zar\" size=5>\n",
    "        <hr/>\n",
    "        <font color=#FF7500 size=۴>\n",
    "             قسمت دوم: مرتب‌سازی و یافتن بهترین‌ها\n",
    "            (۲۵ نمره)\n",
    "        </font>\n",
    "        <div dir = \"rtl\" style=\"direction:rtl;line-height:200%;\">\n",
    "\t<font face=\"XB Zar\" size=5>\n",
    "        اکنون معیار مناسب برای قضاوت میان کتاب‌ها را داریم. حال کافیست داده‌ها را مرتب کنیم و محبوب‌ترین‌ها را استخراج کنیم. برای این منظور گام‌های زیر را طی می‌کنیم:\n",
    "        </br>\n",
    "        <ul>\n",
    "            <li>کتاب‌ها را ابتدا بر اساس ستون popularity و سپس بر اساس سال انتشار و در نهایت نام نویسنده آن، به صورت نزولی مرتب کنید.\n",
    "             <span style=\"background-color: #eeeeee; font-size: 2rem; padding: 5px 10px; border-radius: 20px;\">۱۰ نمره</span></li>   \n",
    "        </ul>\n",
    "</div>"
   ]
  },
  {
   "cell_type": "code",
   "execution_count": 6,
   "id": "3010f7c7",
   "metadata": {},
   "outputs": [],
   "source": [
    "filtered_books <- filtered_books[order(\n",
    "    filtered_books$popularity,\n",
    "    filtered_books$publish.year,\n",
    "    filtered_books$author, decreasing = TRUE), ]"
   ]
  },
  {
   "cell_type": "markdown",
   "id": "3e56bde2",
   "metadata": {},
   "source": [
    "<div dir = \"rtl\" style=\"direction:rtl;line-height:200%;\">\n",
    "\t<font face=\"XB Zar\" size=5>\n",
    "        <ul>\n",
    "            <li style=\"line-height: 200%\">\n",
    "            تابعی بنویسید که یک دیتافریم را دریافت کند و n  سطر ابتدایی آن را بازگرداند. سپس با کمک این تابع، ۱۰ کتاب برتر را در متغیر top_10 ذخیره کنید.\n",
    "             <span style=\"background-color: #eeeeee; font-size: 2rem; padding: 5px 10px; border-radius: 20px;\">۱۰ نمره</span></li> \n",
    "        </ul>            "
   ]
  },
  {
   "cell_type": "code",
   "execution_count": 7,
   "id": "bb19fc33",
   "metadata": {},
   "outputs": [],
   "source": [
    "return_nrows = function(df, n) head(df, n)\n",
    "top_10 = return_nrows(filtered_books, 10)"
   ]
  },
  {
   "cell_type": "markdown",
   "id": "c88102b3",
   "metadata": {},
   "source": [
    "<div dir = \"rtl\" style=\"direction:rtl;line-height:200%;\">\n",
    "\t<font face=\"XB Zar\" size=5>\n",
    "        <ul>\n",
    "            <li>\n",
    "            در نهایت، عنوان، نویسنده، سال انتشار و ناشر ۱۰ کتاب برتر را پرینت کنید.\n",
    "             <span style=\"background-color: #eeeeee; font-size: 2rem; padding: 5px 10px; border-radius: 20px;\">۵ نمره</span></li> \n",
    "        </ul>            "
   ]
  },
  {
   "cell_type": "code",
   "execution_count": 8,
   "id": "3e3dca99",
   "metadata": {},
   "outputs": [
    {
     "name": "stdout",
     "output_type": "stream",
     "text": [
      "                                                                 title\n",
      "254                                     The Complete Calvin and Hobbes\n",
      "5191                                              It's a Magical World\n",
      "2565                                          Mark of the Lion Trilogy\n",
      "2619                                                   ESV Study Bible\n",
      "6505            Harry Potter Boxed Set, Books 1-5 (Harry Potter, #1-5)\n",
      "1504 The Authoritative Calvin and Hobbes: A Calvin and Hobbes Treasury\n",
      "3381                               The Indispensable Calvin and Hobbes\n",
      "626                                                  Words of Radiance\n",
      "9435                                  Scientific Progress Goes \"Boink\"\n",
      "6513           Attack of the Deranged Mutant Killer Monster Snow Goons\n",
      "                                                        author publish.year\n",
      "254                                             Bill Watterson         2005\n",
      "5191                                            Bill Watterson         1996\n",
      "2565                        Francine Rivers (Goodreads Author)         1998\n",
      "2619 Anonymous, Lane T. Dennis (Editor), Wayne Grudem (Editor)         2008\n",
      "6505                 J.K. Rowling, Mary GrandPré (Illustrator)         2004\n",
      "1504                                            Bill Watterson         1990\n",
      "3381                                            Bill Watterson         1905\n",
      "626                       Brandon Sanderson (Goodreads Author)         2014\n",
      "9435                                            Bill Watterson         1905\n",
      "6513                                            Bill Watterson         1992\n",
      "                         publisher\n",
      "254      Andrews McMeel Publishing\n",
      "5191     Andrews McMeel Publishing\n",
      "2565                 Tyndale House\n",
      "2619                      Crossway\n",
      "6505                    Scholastic\n",
      "1504                        Sphere\n",
      "3381                  Warner Books\n",
      "626                      Tor Books\n",
      "9435 Andrews and McMeel Publishing\n",
      "6513              Turtleback Books\n"
     ]
    }
   ],
   "source": [
    "print(top_10[, c('title', 'author', 'publish.year', 'publisher')])"
   ]
  },
  {
   "cell_type": "markdown",
   "id": "58fac95e",
   "metadata": {},
   "source": [
    "<div dir = \"rtl\" style=\"direction:rtl;line-height:250%;\">\n",
    "\t<font face=\"XB Zar\" size=5>\n",
    "\t\t<font color=#FF7500 size=6>\n",
    "           وقتی قلم اوج می‌گیرد! (۳۰ نمره)\n",
    "        </font>\n",
    "        <hr/>\n",
    "<div dir = \"rtl\" style=\"direction:rtl;line-height:200%;\">\n",
    "<font face=\"XB Zar\" size=5>\n",
    "        در آخرین بخش این تمرین، میخواهیم به دو تا از مهم‌ترین عملیات‌ها در زمینه مهندسی داده بپردازیم. در دو بخش گذشته، توانستیم محبوب‌ترین کتاب‌ها را بیابیم. حال اما تصور کنید با استفاده از همان اطلاعات کتاب‌ها بخواهیم روند چاپ \n",
    "    و نگارش کتاب را در طول تاریخ بررسی کنیم. چه باید کرد؟ \n",
    "          </br>\n",
    "    این مسئله ما را به موضوع grouping در علم داده سوق می‌دهد. بدین معنا که داده‌ها را بر اساس یک معیار (در اینجا سال انتشار کتاب) دسته‌بندی می‌کنیم و در نتیجه، لیستی از سال‌ها را خواهیم داشت که به هر کدام چندین کتاب متصل شده است. در ادامه لازم است که عملیاتی روی کتاب‌های هر سال انجام دهیم. به طور مثال، میانگین قیمت آن‌ها را محاسبه کنیم تا در نهایت، یک تک مقدار برای کل آن سال داشته باشیم. به مجموعه این فرایند که به نوعی همان خلاصه‌سازی داده‌ها است، aggregation می‌گویند که با همین نام هم می‌توانید آن را در زبان R بیابید.\n",
    "    </br>\n",
    "    </br>\n",
    "<ul>\n",
    "<li>\n",
    "    حال می‌خواهیم  تعداد کتاب‌های منتشر شده در هر سال را بدست بیاوریم. برای این منظور، ابتدا کتاب‌ها را بر اساس سال انتشار آن‌ها دسته‌بندی خواهیم کرد و عملیات length را روی عنوان کتاب‌ها اجرا می‌کنیم و نتیجه را در متغیر A ذخیره می‌کنیم.\n",
    "      <span style=\"background-color: #eeeeee; font-size: 2rem; padding: 5px 10px; border-radius: 20px;\">۱۰ نمره</span></li>\n",
    "</ul>\n",
    "<div style=\"margin: 10px 0; border-radius: 8px;padding: 15px; background-color: #caf0f8; color: #03045e; font-family: 'XB zar';\">\n",
    "    برای حل سوال بالا از تابع aggregate استفاده کنید. برای مطالعه بیشتر <a href=\"https://www.geeksforgeeks.org/how-to-use-aggregate-function-in-r/\">این لینک</a> را مطالعه کنید.\n",
    "</div>\n",
    "</div>"
   ]
  },
  {
   "cell_type": "code",
   "execution_count": 9,
   "id": "ff789462",
   "metadata": {},
   "outputs": [],
   "source": [
    "A <- aggregate(filtered_books$title, list(filtered_books$publish.year),\n",
    "               FUN = length)"
   ]
  },
  {
   "cell_type": "markdown",
   "id": "cfc8e099",
   "metadata": {},
   "source": [
    "<div dir = \"rtl\" style=\"direction:rtl;line-height:200%;\">\n",
    "\t<font face=\"XB Zar\" size=5>\n",
    "        <ul>\n",
    "            <li style=\"line-height: 200%\">مجددا بر اساس سال انتشار دسته‌بندی انجام می‌دهیم اما این بار به جای شمارش تعداد کتاب‌ها، ماکسیسمم تعداد صفحات آن‌ها را محاسبه می‌کنیم و نتیجه را در متغیر B ذخیره می‌کنیم. \n",
    "              <span style=\"background-color: #eeeeee; font-size: 2rem; padding: 5px 10px; border-radius: 20px;\">۵ نمره</span></li> \n",
    "        </ul>   "
   ]
  },
  {
   "cell_type": "code",
   "execution_count": 10,
   "id": "9b025b60",
   "metadata": {},
   "outputs": [],
   "source": [
    "B <- aggregate(filtered_books$pages, list(filtered_books$publish.year),\n",
    "               FUN = max)"
   ]
  },
  {
   "cell_type": "markdown",
   "id": "379ce072",
   "metadata": {},
   "source": [
    "<div dir = \"rtl\" style=\"direction:rtl;line-height:200%;\">\n",
    "\t<font face=\"XB Zar\" size=5>\n",
    "<div dir = \"rtl\" style=\"direction:rtl;line-height:200%;\">\n",
    "        حال نگاهی به جدول A و B بیندازید. ستون سال انتشار در هر دو جدول یکسان است و تفاوتشان در ستون دوم است. فرض کنید که بخواهیم تعداد کتاب‌های هر سال و تعداد صفحات طولانی‌ترین کتاب هر سال‌ را بررسی کنیم. لازم است مدام بین دو جدول A و B جابجا شویم! آیا می‌توانیم اطلاعات دو جدول را با هم ترکیب کنیم و همه این اطلاعات را فقط در یک جدول نگهداری کنیم؟\n",
    "        <br>\n",
    "        مفهوم join یا merge در پاسخ به نیاز فوق ایجاد شده‌اند. همانطور که از نامشان پیداست ما می‌توانیم چند جدول را بر اساس ستون‌های متناظر ترکیب کنیم و داده‌های هر دو جدول را در یک جدول نگه‌داری کنیم. البته این موضوع کاربرد‌های بسیار دیگری نیز دارد که در این مقال نمی‌گنجد :)\n",
    "        <br>\n",
    "        بعدها در درس پایگاه داده نیز با چنین مفهومی مواجه خواهید شد.\n",
    "        <ul>\n",
    "            <li>\n",
    "                دو جدول A  و B را ترکیب کرده و در متغیر C ذخیره کنید. طبیعتا تناظر بین این دو جدول نیز بر اساس همان سال انتشار  خواهد بود.\n",
    "                  <span style=\"background-color: #eeeeee; font-size: 2rem; padding: 5px 10px; border-radius: 20px;\">۱۰ نمره</span></li> \n",
    "            <li>\n",
    "            با استفاده از تابعی که پیشتر برای دریافت top_10 نوشته‌اید، ۱۵ سطر ابتدایی جدول C را چاپ کنید.       \n",
    "                  <span style=\"background-color: #eeeeee; font-size: 2rem; padding: 5px 10px; border-radius: 20px;\">۵ نمره</span></li> \n",
    "        </ul>\n",
    "    <div style=\"margin: 10px 0; border-radius: 8px;padding: 15px; background-color: #caf0f8; color: #03045e; font-family: 'XB zar';\">\n",
    "        راهنمایی: در مورد تابع merge در زبان R مطالعه کنید\n",
    "</div>\n",
    "        </div>"
   ]
  },
  {
   "cell_type": "code",
   "execution_count": 11,
   "id": "570eea7f",
   "metadata": {},
   "outputs": [
    {
     "name": "stdout",
     "output_type": "stream",
     "text": [
      "   Group.1 x.x  x.y\n",
      "1     1905 375 1952\n",
      "2     1936   1   72\n",
      "3     1939   1   56\n",
      "4     1942   1   40\n",
      "5     1945   1   96\n",
      "6     1952   1  107\n",
      "7     1953   1  289\n",
      "8     1955   1   88\n",
      "9     1957   2  189\n",
      "10    1958   2  176\n",
      "11    1959   1  282\n",
      "12    1960   2  256\n",
      "13    1961   1   64\n",
      "14    1962   4  589\n",
      "15    1963   1  325\n"
     ]
    }
   ],
   "source": [
    "C <- merge(A, B, by = \"Group.1\")\n",
    "print(return_nrows(C, 15))"
   ]
  },
  {
   "cell_type": "markdown",
   "id": "7e30b511",
   "metadata": {},
   "source": [
    "<div dir = \"rtl\" style=\"direction:rtl;line-height:200%;\">\n",
    "\t<font face=\"XB Zar\" size=5>\n",
    "<div dir = \"rtl\" style=\"direction:rtl;line-height:200%;\">\n",
    "    حال با استفاده از اطلاعات بالا می‌توانید روند رونق چاپ کتاب را در طول سال‌های تاریخ بررسی کنید و متوجه نکات جالبی شوید.\n",
    "    <br>\n",
    "<div dir = \"rtl\" style=\"direction:rtl;line-height:200%;\">\n",
    "\t<font face=\"XB Zar\" size=5>\n",
    "\t\t<font color=#FF7500 size=6>سخن پایانی\n",
    "        </font>\n",
    "\n",
    "\n",
    "<div style=\"margin: 10px 0; border-radius: 8px;padding: 15px; background-color: #98f5e1; color: #236c5b; font-family: 'XB zar';\">تمرین ما به پایان رسید، اما داستان علم داده نه ... <br>\n",
    "ما در ابتدای مسیر هستیم و شاید آنچنان که باید، اهمیت اطلاعات را در دنیای امروز درک نکنیم. برای آشنایی با جذابیت‌های این علم و آنچه که داده‌ها می‌توانند بگویند توصیه می‌کنیم خلاصه کتاب everybody lies را از <a href=\"http://www.namlik.me/article/%D8%A7%D9%BE%DB%8C%D8%B2%D9%88%D8%AF%20%D8%B3%D9%87%20:%20Everybody%20Lies\">اینجا</a> بشنوید.\n",
    "    <br>\n",
    "    موفق و پیروز باشید :)\n",
    "</div>"
   ]
  }
 ],
 "metadata": {
  "kernelspec": {
   "display_name": "R",
   "language": "R",
   "name": "ir"
  },
  "language_info": {
   "codemirror_mode": "r",
   "file_extension": ".r",
   "mimetype": "text/x-r-source",
   "name": "R",
   "pygments_lexer": "r",
   "version": "4.2.1"
  }
 },
 "nbformat": 4,
 "nbformat_minor": 5
}
